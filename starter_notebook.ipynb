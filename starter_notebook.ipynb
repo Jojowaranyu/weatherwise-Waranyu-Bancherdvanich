{
  "cells": [
    {
      "cell_type": "markdown",
      "metadata": {
        "id": "view-in-github",
        "colab_type": "text"
      },
      "source": [
        "<a href=\"https://colab.research.google.com/github/Jojowaranyu/weatherwise-Waranyu-Bancherdvanich/blob/main/starter_notebook.ipynb\" target=\"_parent\"><img src=\"https://colab.research.google.com/assets/colab-badge.svg\" alt=\"Open In Colab\"/></a>"
      ]
    },
    {
      "cell_type": "markdown",
      "id": "72e78a05",
      "metadata": {
        "id": "72e78a05"
      },
      "source": [
        "# 🌦️ WeatherWise – Starter Notebook\n",
        "\n",
        "Welcome to your **WeatherWise** project notebook! This scaffold is designed to help you build your weather advisor app using Python, visualisations, and AI-enhanced development.\n",
        "\n",
        "---\n",
        "\n",
        "📄 **Full Assignment Specification**  \n",
        "See [`ASSIGNMENT.md`](ASSIGNMENT.md) or check the LMS for full details.\n",
        "\n",
        "📝 **Quick Refresher**  \n",
        "A one-page summary is available in [`resources/assignment-summary.md`](resources/assignment-summary.md).\n",
        "\n",
        "---\n",
        "\n",
        "🧠 **This Notebook Structure is Optional**  \n",
        "You’re encouraged to reorganise, rename sections, or remove scaffold cells if you prefer — as long as your final version meets the requirements.\n",
        "\n",
        "✅ You may delete this note before submission.\n",
        "\n"
      ]
    },
    {
      "cell_type": "markdown",
      "id": "fa8c7f6c",
      "metadata": {
        "id": "fa8c7f6c"
      },
      "source": [
        "## 🧰 Setup and Imports\n",
        "\n",
        "This section imports commonly used packages and installs any additional tools used in the project.\n",
        "\n",
        "- You may not need all of these unless you're using specific features (e.g. visualisations, advanced prompting).\n",
        "- The notebook assumes the following packages are **pre-installed** in the provided environment or installable via pip:\n",
        "  - `requests`, `matplotlib`, `pyinputplus`\n",
        "  - `fetch-my-weather` (for accessing weather data easily)\n",
        "  - `hands-on-ai` (for AI logging, comparisons, or prompting tools)\n",
        "\n",
        "If you're running this notebook in **Google Colab**, uncomment the following lines to install the required packages.\n"
      ]
    },
    {
      "cell_type": "code",
      "execution_count": 13,
      "id": "70c3f3f1",
      "metadata": {
        "id": "70c3f3f1",
        "colab": {
          "base_uri": "https://localhost:8080/"
        },
        "outputId": "596b801c-5ba7-4a2d-a5bd-f07aabdd6769"
      },
      "outputs": [
        {
          "output_type": "stream",
          "name": "stdout",
          "text": [
            "Requirement already satisfied: hands-on-ai in /usr/local/lib/python3.12/dist-packages (0.2.1)\n",
            "Collecting pyinputplus\n",
            "  Downloading PyInputPlus-0.2.12.tar.gz (20 kB)\n",
            "  Installing build dependencies ... \u001b[?25l\u001b[?25hdone\n",
            "  Getting requirements to build wheel ... \u001b[?25l\u001b[?25hdone\n",
            "  Preparing metadata (pyproject.toml) ... \u001b[?25l\u001b[?25hdone\n",
            "Requirement already satisfied: requests in /usr/local/lib/python3.12/dist-packages (from hands-on-ai) (2.32.4)\n",
            "Requirement already satisfied: typer in /usr/local/lib/python3.12/dist-packages (from hands-on-ai) (0.19.2)\n",
            "Requirement already satisfied: python-fasthtml in /usr/local/lib/python3.12/dist-packages (from hands-on-ai) (0.12.29)\n",
            "Requirement already satisfied: python-docx in /usr/local/lib/python3.12/dist-packages (from hands-on-ai) (1.2.0)\n",
            "Requirement already satisfied: pymupdf in /usr/local/lib/python3.12/dist-packages (from hands-on-ai) (1.26.5)\n",
            "Requirement already satisfied: scikit-learn in /usr/local/lib/python3.12/dist-packages (from hands-on-ai) (1.6.1)\n",
            "Requirement already satisfied: numpy in /usr/local/lib/python3.12/dist-packages (from hands-on-ai) (2.0.2)\n",
            "Requirement already satisfied: instructor>=1.11.0 in /usr/local/lib/python3.12/dist-packages (from hands-on-ai) (1.11.3)\n",
            "Requirement already satisfied: pydantic>=2.0 in /usr/local/lib/python3.12/dist-packages (from hands-on-ai) (2.11.10)\n",
            "Collecting pysimplevalidate>=0.2.7 (from pyinputplus)\n",
            "  Downloading PySimpleValidate-0.2.12.tar.gz (22 kB)\n",
            "  Installing build dependencies ... \u001b[?25l\u001b[?25hdone\n",
            "  Getting requirements to build wheel ... \u001b[?25l\u001b[?25hdone\n",
            "  Preparing metadata (pyproject.toml) ... \u001b[?25l\u001b[?25hdone\n",
            "Collecting stdiomask>=0.0.3 (from pyinputplus)\n",
            "  Downloading stdiomask-0.0.6.tar.gz (3.6 kB)\n",
            "  Installing build dependencies ... \u001b[?25l\u001b[?25hdone\n",
            "  Getting requirements to build wheel ... \u001b[?25l\u001b[?25hdone\n",
            "  Preparing metadata (pyproject.toml) ... \u001b[?25l\u001b[?25hdone\n",
            "Requirement already satisfied: aiohttp<4.0.0,>=3.9.1 in /usr/local/lib/python3.12/dist-packages (from instructor>=1.11.0->hands-on-ai) (3.13.0)\n",
            "Requirement already satisfied: diskcache>=5.6.3 in /usr/local/lib/python3.12/dist-packages (from instructor>=1.11.0->hands-on-ai) (5.6.3)\n",
            "Requirement already satisfied: docstring-parser<1.0,>=0.16 in /usr/local/lib/python3.12/dist-packages (from instructor>=1.11.0->hands-on-ai) (0.17.0)\n",
            "Requirement already satisfied: jinja2<4.0.0,>=3.1.4 in /usr/local/lib/python3.12/dist-packages (from instructor>=1.11.0->hands-on-ai) (3.1.6)\n",
            "Requirement already satisfied: jiter<0.11,>=0.6.1 in /usr/local/lib/python3.12/dist-packages (from instructor>=1.11.0->hands-on-ai) (0.10.0)\n",
            "Requirement already satisfied: openai<2.0.0,>=1.70.0 in /usr/local/lib/python3.12/dist-packages (from instructor>=1.11.0->hands-on-ai) (1.109.1)\n",
            "Requirement already satisfied: pydantic-core<3.0.0,>=2.18.0 in /usr/local/lib/python3.12/dist-packages (from instructor>=1.11.0->hands-on-ai) (2.33.2)\n",
            "Requirement already satisfied: rich<15.0.0,>=13.7.0 in /usr/local/lib/python3.12/dist-packages (from instructor>=1.11.0->hands-on-ai) (13.9.4)\n",
            "Requirement already satisfied: tenacity<10.0.0,>=8.2.3 in /usr/local/lib/python3.12/dist-packages (from instructor>=1.11.0->hands-on-ai) (8.5.0)\n",
            "Requirement already satisfied: annotated-types>=0.6.0 in /usr/local/lib/python3.12/dist-packages (from pydantic>=2.0->hands-on-ai) (0.7.0)\n",
            "Requirement already satisfied: typing-extensions>=4.12.2 in /usr/local/lib/python3.12/dist-packages (from pydantic>=2.0->hands-on-ai) (4.15.0)\n",
            "Requirement already satisfied: typing-inspection>=0.4.0 in /usr/local/lib/python3.12/dist-packages (from pydantic>=2.0->hands-on-ai) (0.4.2)\n",
            "Requirement already satisfied: charset_normalizer<4,>=2 in /usr/local/lib/python3.12/dist-packages (from requests->hands-on-ai) (3.4.3)\n",
            "Requirement already satisfied: idna<4,>=2.5 in /usr/local/lib/python3.12/dist-packages (from requests->hands-on-ai) (3.10)\n",
            "Requirement already satisfied: urllib3<3,>=1.21.1 in /usr/local/lib/python3.12/dist-packages (from requests->hands-on-ai) (2.5.0)\n",
            "Requirement already satisfied: certifi>=2017.4.17 in /usr/local/lib/python3.12/dist-packages (from requests->hands-on-ai) (2025.10.5)\n",
            "Requirement already satisfied: click>=8.0.0 in /usr/local/lib/python3.12/dist-packages (from typer->hands-on-ai) (8.3.0)\n",
            "Requirement already satisfied: shellingham>=1.3.0 in /usr/local/lib/python3.12/dist-packages (from typer->hands-on-ai) (1.5.4)\n",
            "Requirement already satisfied: lxml>=3.1.0 in /usr/local/lib/python3.12/dist-packages (from python-docx->hands-on-ai) (5.4.0)\n",
            "Requirement already satisfied: fastcore>=1.8.1 in /usr/local/lib/python3.12/dist-packages (from python-fasthtml->hands-on-ai) (1.8.12)\n",
            "Requirement already satisfied: python-dateutil in /usr/local/lib/python3.12/dist-packages (from python-fasthtml->hands-on-ai) (2.9.0.post0)\n",
            "Requirement already satisfied: starlette>0.33 in /usr/local/lib/python3.12/dist-packages (from python-fasthtml->hands-on-ai) (0.48.0)\n",
            "Requirement already satisfied: oauthlib in /usr/local/lib/python3.12/dist-packages (from python-fasthtml->hands-on-ai) (3.3.1)\n",
            "Requirement already satisfied: itsdangerous in /usr/local/lib/python3.12/dist-packages (from python-fasthtml->hands-on-ai) (2.2.0)\n",
            "Requirement already satisfied: uvicorn>=0.30 in /usr/local/lib/python3.12/dist-packages (from uvicorn[standard]>=0.30->python-fasthtml->hands-on-ai) (0.37.0)\n",
            "Requirement already satisfied: httpx in /usr/local/lib/python3.12/dist-packages (from python-fasthtml->hands-on-ai) (0.28.1)\n",
            "Requirement already satisfied: fastlite>=0.1.1 in /usr/local/lib/python3.12/dist-packages (from python-fasthtml->hands-on-ai) (0.2.1)\n",
            "Requirement already satisfied: python-multipart in /usr/local/lib/python3.12/dist-packages (from python-fasthtml->hands-on-ai) (0.0.20)\n",
            "Requirement already satisfied: beautifulsoup4 in /usr/local/lib/python3.12/dist-packages (from python-fasthtml->hands-on-ai) (4.13.5)\n",
            "Requirement already satisfied: scipy>=1.6.0 in /usr/local/lib/python3.12/dist-packages (from scikit-learn->hands-on-ai) (1.16.2)\n",
            "Requirement already satisfied: joblib>=1.2.0 in /usr/local/lib/python3.12/dist-packages (from scikit-learn->hands-on-ai) (1.5.2)\n",
            "Requirement already satisfied: threadpoolctl>=3.1.0 in /usr/local/lib/python3.12/dist-packages (from scikit-learn->hands-on-ai) (3.6.0)\n",
            "Requirement already satisfied: aiohappyeyeballs>=2.5.0 in /usr/local/lib/python3.12/dist-packages (from aiohttp<4.0.0,>=3.9.1->instructor>=1.11.0->hands-on-ai) (2.6.1)\n",
            "Requirement already satisfied: aiosignal>=1.4.0 in /usr/local/lib/python3.12/dist-packages (from aiohttp<4.0.0,>=3.9.1->instructor>=1.11.0->hands-on-ai) (1.4.0)\n",
            "Requirement already satisfied: attrs>=17.3.0 in /usr/local/lib/python3.12/dist-packages (from aiohttp<4.0.0,>=3.9.1->instructor>=1.11.0->hands-on-ai) (25.4.0)\n",
            "Requirement already satisfied: frozenlist>=1.1.1 in /usr/local/lib/python3.12/dist-packages (from aiohttp<4.0.0,>=3.9.1->instructor>=1.11.0->hands-on-ai) (1.8.0)\n",
            "Requirement already satisfied: multidict<7.0,>=4.5 in /usr/local/lib/python3.12/dist-packages (from aiohttp<4.0.0,>=3.9.1->instructor>=1.11.0->hands-on-ai) (6.7.0)\n",
            "Requirement already satisfied: propcache>=0.2.0 in /usr/local/lib/python3.12/dist-packages (from aiohttp<4.0.0,>=3.9.1->instructor>=1.11.0->hands-on-ai) (0.3.2)\n",
            "Requirement already satisfied: yarl<2.0,>=1.17.0 in /usr/local/lib/python3.12/dist-packages (from aiohttp<4.0.0,>=3.9.1->instructor>=1.11.0->hands-on-ai) (1.22.0)\n",
            "Requirement already satisfied: packaging in /usr/local/lib/python3.12/dist-packages (from fastcore>=1.8.1->python-fasthtml->hands-on-ai) (25.0)\n",
            "Requirement already satisfied: apswutils>=0.1.0 in /usr/local/lib/python3.12/dist-packages (from fastlite>=0.1.1->python-fasthtml->hands-on-ai) (0.1.0)\n",
            "Requirement already satisfied: MarkupSafe>=2.0 in /usr/local/lib/python3.12/dist-packages (from jinja2<4.0.0,>=3.1.4->instructor>=1.11.0->hands-on-ai) (3.0.3)\n",
            "Requirement already satisfied: anyio<5,>=3.5.0 in /usr/local/lib/python3.12/dist-packages (from openai<2.0.0,>=1.70.0->instructor>=1.11.0->hands-on-ai) (4.11.0)\n",
            "Requirement already satisfied: distro<2,>=1.7.0 in /usr/local/lib/python3.12/dist-packages (from openai<2.0.0,>=1.70.0->instructor>=1.11.0->hands-on-ai) (1.9.0)\n",
            "Requirement already satisfied: sniffio in /usr/local/lib/python3.12/dist-packages (from openai<2.0.0,>=1.70.0->instructor>=1.11.0->hands-on-ai) (1.3.1)\n",
            "Requirement already satisfied: tqdm>4 in /usr/local/lib/python3.12/dist-packages (from openai<2.0.0,>=1.70.0->instructor>=1.11.0->hands-on-ai) (4.67.1)\n",
            "Requirement already satisfied: httpcore==1.* in /usr/local/lib/python3.12/dist-packages (from httpx->python-fasthtml->hands-on-ai) (1.0.9)\n",
            "Requirement already satisfied: h11>=0.16 in /usr/local/lib/python3.12/dist-packages (from httpcore==1.*->httpx->python-fasthtml->hands-on-ai) (0.16.0)\n",
            "Requirement already satisfied: markdown-it-py>=2.2.0 in /usr/local/lib/python3.12/dist-packages (from rich<15.0.0,>=13.7.0->instructor>=1.11.0->hands-on-ai) (4.0.0)\n",
            "Requirement already satisfied: pygments<3.0.0,>=2.13.0 in /usr/local/lib/python3.12/dist-packages (from rich<15.0.0,>=13.7.0->instructor>=1.11.0->hands-on-ai) (2.19.2)\n",
            "Requirement already satisfied: httptools>=0.6.3 in /usr/local/lib/python3.12/dist-packages (from uvicorn[standard]>=0.30->python-fasthtml->hands-on-ai) (0.7.1)\n",
            "Requirement already satisfied: python-dotenv>=0.13 in /usr/local/lib/python3.12/dist-packages (from uvicorn[standard]>=0.30->python-fasthtml->hands-on-ai) (1.1.1)\n",
            "Requirement already satisfied: pyyaml>=5.1 in /usr/local/lib/python3.12/dist-packages (from uvicorn[standard]>=0.30->python-fasthtml->hands-on-ai) (6.0.3)\n",
            "Requirement already satisfied: uvloop>=0.15.1 in /usr/local/lib/python3.12/dist-packages (from uvicorn[standard]>=0.30->python-fasthtml->hands-on-ai) (0.21.0)\n",
            "Requirement already satisfied: watchfiles>=0.13 in /usr/local/lib/python3.12/dist-packages (from uvicorn[standard]>=0.30->python-fasthtml->hands-on-ai) (1.1.1)\n",
            "Requirement already satisfied: websockets>=10.4 in /usr/local/lib/python3.12/dist-packages (from uvicorn[standard]>=0.30->python-fasthtml->hands-on-ai) (15.0.1)\n",
            "Requirement already satisfied: soupsieve>1.2 in /usr/local/lib/python3.12/dist-packages (from beautifulsoup4->python-fasthtml->hands-on-ai) (2.8)\n",
            "Requirement already satisfied: six>=1.5 in /usr/local/lib/python3.12/dist-packages (from python-dateutil->python-fasthtml->hands-on-ai) (1.17.0)\n",
            "Requirement already satisfied: apsw in /usr/local/lib/python3.12/dist-packages (from apswutils>=0.1.0->fastlite>=0.1.1->python-fasthtml->hands-on-ai) (3.50.4.0)\n",
            "Requirement already satisfied: mdurl~=0.1 in /usr/local/lib/python3.12/dist-packages (from markdown-it-py>=2.2.0->rich<15.0.0,>=13.7.0->instructor>=1.11.0->hands-on-ai) (0.1.2)\n",
            "Building wheels for collected packages: pyinputplus, pysimplevalidate, stdiomask\n",
            "  Building wheel for pyinputplus (pyproject.toml) ... \u001b[?25l\u001b[?25hdone\n",
            "  Created wheel for pyinputplus: filename=pyinputplus-0.2.12-py3-none-any.whl size=11348 sha256=1420d53ea1ca92e6c9b2ad5b2f0f3a9fb84f5facdd37b19d3617eca50ddd25b1\n",
            "  Stored in directory: /root/.cache/pip/wheels/85/81/c1/325c8199c5c4de8a0b9af900ff9cd8bd69853e3d9419493512\n",
            "  Building wheel for pysimplevalidate (pyproject.toml) ... \u001b[?25l\u001b[?25hdone\n",
            "  Created wheel for pysimplevalidate: filename=pysimplevalidate-0.2.12-py3-none-any.whl size=16225 sha256=41192cebd87fffcf66beb05ccef1cbfaa1316e79f49203e8583543ca07ea1cbd\n",
            "  Stored in directory: /root/.cache/pip/wheels/09/de/18/4dd2be0dbdf31870c6f0abde43b0de197b1c095655ad7da5c2\n",
            "  Building wheel for stdiomask (pyproject.toml) ... \u001b[?25l\u001b[?25hdone\n",
            "  Created wheel for stdiomask: filename=stdiomask-0.0.6-py3-none-any.whl size=3358 sha256=0bc717e511f4a9475e805bd822bbf31bae7f77d8377e6f1d50c962719bad1fa5\n",
            "  Stored in directory: /root/.cache/pip/wheels/05/c7/e6/c66ff8c008b4d73f2db458feb4922075e7755853fe496e5135\n",
            "Successfully built pyinputplus pysimplevalidate stdiomask\n",
            "Installing collected packages: stdiomask, pysimplevalidate, pyinputplus\n",
            "Successfully installed pyinputplus-0.2.12 pysimplevalidate-0.2.12 stdiomask-0.0.6\n"
          ]
        }
      ],
      "source": [
        "# 🧪 Download packages\n",
        "!pip install hands-on-ai pyinputplus"
      ]
    },
    {
      "cell_type": "code",
      "source": [
        "import os\n",
        "\n",
        "os.environ['HANDS_ON_AI_SERVER'] = 'http://ollama.serveur.au'\n",
        "os.environ['HANDS_ON_AI_MODEL'] = 'granite3.2'"
      ],
      "metadata": {
        "id": "B2JKlJfrGgIb"
      },
      "id": "B2JKlJfrGgIb",
      "execution_count": 16,
      "outputs": []
    },
    {
      "cell_type": "markdown",
      "id": "59ae7543",
      "metadata": {
        "id": "59ae7543"
      },
      "source": [
        "## 📦 Setup and Configuration\n",
        "Import required packages and setup environment."
      ]
    },
    {
      "cell_type": "code",
      "execution_count": 18,
      "id": "f1dd051e",
      "metadata": {
        "id": "f1dd051e",
        "colab": {
          "base_uri": "https://localhost:8080/"
        },
        "outputId": "05dfd9d5-ab75-41b7-84d2-fcb610051ef9"
      },
      "outputs": [
        {
          "output_type": "stream",
          "name": "stdout",
          "text": [
            "Warning: fetch_my_weather not installed. You can install it in Colab by running the optional pip cell above.\n"
          ]
        }
      ],
      "source": [
        "import requests\n",
        "import matplotlib.pyplot as plt\n",
        "import pyinputplus as pyip\n",
        "# ✅ Import after installing (if needed)\n",
        "from hands_on_ai.chat import get_response\n",
        "\n",
        "# Add any other setup code here\n",
        "\n",
        "# Core libraries\n",
        "import os\n",
        "import re\n",
        "from typing import Dict, Any, List, Optional, Tuple, Union\n",
        "import requests\n",
        "import matplotlib.pyplot as plt\n",
        "\n",
        "os.environ[\"OPENWEATHER_API_KEY\"] = \"3a10e176bbe73766db6e4d09a4bd96d0\"  # Demo key, get your own at https://openweathermap.org/api\n",
        "\n",
        "\n",
        "# pyinputplus is preferred for menus, but guard if missing in some environments\n",
        "try:\n",
        "\timport pyinputplus as pyip\n",
        "except Exception:\n",
        "\tpyip = None  # UI cell will handle None gracefully\n",
        "\n",
        "# Fetch weather via the teaching helper library\n",
        "try:\n",
        "\timport fetch_my_weather as fmw\n",
        "except Exception as e:\n",
        "\tfmw = None\n",
        "\tprint(\"Warning: fetch_my_weather not installed. You can install it in Colab by running the optional pip cell above.\")\n",
        "\n",
        "# Global state used by UI/demo (kept minimal)\n",
        "_LAST_LOCATION: Optional[str] = None\n",
        "_LAST_FORECAST_DAYS: int = 5\n",
        "_LAST_WEATHER: Optional[Dict[str, Any]] = None\n",
        "\n",
        "# Helper for safe matplotlib usage in notebooks\n",
        "plt.rcParams.update({\n",
        "\t\"figure.figsize\": (8, 4),\n",
        "\t\"axes.grid\": True,\n",
        "})"
      ]
    },
    {
      "cell_type": "markdown",
      "id": "f736ade3",
      "metadata": {
        "id": "f736ade3"
      },
      "source": [
        "## 🌤️ Weather Data Functions"
      ]
    },
    {
      "cell_type": "code",
      "execution_count": 19,
      "id": "7a2c7cd0",
      "metadata": {
        "id": "7a2c7cd0"
      },
      "outputs": [],
      "source": [
        "# Define get_weather_data() function here\n",
        "from typing import TypedDict\n",
        "\n",
        "class ParsedWeather(TypedDict, total=False):\n",
        "\tlocation: str\n",
        "\tforecast_days: int\n",
        "\terror: Optional[str]\n",
        "\tcurrent: Dict[str, Any]\n",
        "\tdaily: List[Dict[str, Any]]\n",
        "\n",
        "\n",
        "def _normalize_fmw_json(model_or_dict: Any) -> Dict[str, Any]:\n",
        "\t\"\"\"\n",
        "\tConvert fetch_my_weather WeatherResponse (Pydantic) or raw dict to a plain dict.\n",
        "\tThis keeps only the keys we care about for the assignment to simplify downstream code.\n",
        "\t\"\"\"\n",
        "\t# If it's a pydantic model, use model_dump if available\n",
        "\tif hasattr(model_or_dict, \"model_dump\"):\n",
        "\t\tdata = model_or_dict.model_dump()  # type: ignore[attr-defined]\n",
        "\telse:\n",
        "\t\tdata = dict(model_or_dict)\n",
        "\treturn data\n",
        "\n",
        "def openWeather_getWeather(city: str, units: str = \"metric\"):\n",
        "\tapi_key = os.getenv(\"OPENWEATHER_API_KEY\")\n",
        "\tif not api_key:\n",
        "\t\treturn None\n",
        "\ttry:\n",
        "\t\tCITY = city\n",
        "\t\tUNITS = units  # metric for °C or \"imperial\" for °F\n",
        "\t\t# Step 1: Call the 5-day forecast API\n",
        "\t\turl = f\"https://api.openweathermap.org/data/2.5/forecast?q={CITY}&appid={api_key}&units={UNITS}\"\n",
        "\t\tresponse = requests.get(url)\n",
        "\t\tdata = response.json()\n",
        "\t\treturn data\n",
        "\texcept Exception as e:\n",
        "\t\tprint(f\"Error fetching weather data: {e}\")\n",
        "\t\treturn None\n",
        "\n",
        "\n",
        "def get_weather_data(city: str, forecast_days: int = 5):\n",
        "\t\"\"\"\n",
        "\tRetrieve weather data for a specified location.\n",
        "\n",
        "\tArgs:\n",
        "\t\tlocation (str): City or location name\n",
        "\t\tforecast_days (int): Number of days to forecast (1-5)\n",
        "\n",
        "\tReturns:\n",
        "\t\tdict: Weather data including current conditions and forecast\n",
        "\t\"\"\"\n",
        "\ttry:\n",
        "\t\tresponse = openWeather_getWeather(city=city, units=\"metric\")\n",
        "\t\treturn response\n",
        "\texcept Exception as e:\n",
        "\t\tresponse[\"error\"] = f\"Failed to fetch weather data: {e}\"\n",
        "\t\treturn response"
      ]
    },
    {
      "cell_type": "markdown",
      "id": "8a744fdc",
      "metadata": {
        "id": "8a744fdc"
      },
      "source": [
        "## 📊 Visualisation Functions"
      ]
    },
    {
      "cell_type": "code",
      "execution_count": 20,
      "id": "9dc3bf85",
      "metadata": {
        "id": "9dc3bf85"
      },
      "outputs": [],
      "source": [
        "# Define create_temperature_visualisation() and create_precipitation_visualisation() here\n",
        "from datetime import datetime\n",
        "from typing import List, Dict, Any\n",
        "\n",
        "def _extract_day_labels(daily: List[Dict[str, Any]]) -> List[str]:\n",
        "        labels: List[str] = []\n",
        "        for d in daily:\n",
        "                date_str = d.get(\"date\") or d.get(\"astronomy\", [{}])[0].get(\"sunrise\")\n",
        "                try:\n",
        "                        labels.append(datetime.strptime(date_str, \"%Y-%m-%d\").strftime(\"%a %d\"))\n",
        "                except Exception:\n",
        "                        labels.append(str(date_str))\n",
        "        return labels\n",
        "\n",
        "\n",
        "def create_temperature_visualisation(weather_data: Dict[str, Any], output_type: str = 'display'):\n",
        "        \"\"\"\n",
        "        Create visualisation of temperature data.\n",
        "\n",
        "        Args:\n",
        "                weather_data (dict): The processed weather data\n",
        "                output_type (str): Either 'display' to show in notebook or 'figure' to return the figure\n",
        "\n",
        "        Returns:\n",
        "                If output_type is 'figure', returns the matplotlib figure object\n",
        "                Otherwise, displays the visualisation in the notebook\n",
        "        \"\"\"\n",
        "\n",
        "        # get daily forecast data\n",
        "        daily = weather_data.get(\"daily\", [])\n",
        "        if not daily:\n",
        "                print(\"No daily forecast data available to plot temperatures.\")\n",
        "                return None\n",
        "\n",
        "        # create x-axis max/min temperature plots label\n",
        "        max_t = [int(d.get(\"maxtempC\") or 0) for d in daily]\n",
        "        min_t = [int(d.get(\"mintempC\") or 0) for d in daily]\n",
        "        labels = _extract_day_labels(daily)\n",
        "\n",
        "        fig, ax = plt.subplots()\n",
        "        ax.plot(labels, max_t, marker='o', label='Max Temp (°C)')\n",
        "        ax.plot(labels, min_t, marker='o', label='Min Temp (°C)')\n",
        "        ax.set_title(\"Daily Temperature Forecast\")\n",
        "        ax.set_xlabel(\"Day\")\n",
        "        ax.set_ylabel(\"Temperature (°C)\")\n",
        "        ax.legend()\n",
        "        plt.xticks(rotation=0)\n",
        "        plt.tight_layout()\n",
        "\n",
        "        if output_type == 'figure':\n",
        "                return fig\n",
        "        else:\n",
        "                plt.show()\n",
        "                return None"
      ]
    },
    {
      "cell_type": "code",
      "source": [
        "\n",
        "def create_precipitation_visualisation(weather_data: Dict[str, Any], output_type: str = 'display'):\n",
        "\t\"\"\"\n",
        "\tCreate visualisation of precipitation data.\n",
        "\n",
        "\tArgs:\n",
        "\t\tweather_data (dict): The processed weather data\n",
        "\t\toutput_type (str): Either 'display' to show in notebook or 'figure' to return the figure\n",
        "\n",
        "\tReturns:\n",
        "\t\tIf output_type is 'figure', returns the matplotlib figure object\n",
        "\t\tOtherwise, displays the visualisation in the notebook\n",
        "\t\"\"\"\n",
        "\tdaily = weather_data.get(\"daily\", [])\n",
        "\tif not daily:\n",
        "\t\tprint(\"No daily forecast data available to plot precipitation.\")\n",
        "\t\treturn None\n",
        "\n",
        "\t# Some wttr.in data uses hourly precipitation; daily often contains total precipitation in mm\n",
        "\t# We'll use total precipitation in mm if available; otherwise, estimate from hourly\n",
        "\ttotals: List[float] = []\n",
        "\tlabels = _extract_day_labels(daily)\n",
        "\n",
        "\tfor d in daily:\n",
        "\t\tmm = d.get(\"totalPrecipMM\")\n",
        "\t\tif mm is None and d.get(\"hourly\"):\n",
        "\t\t\ttry:\n",
        "\t\t\t\tmm = sum(float(h.get(\"precipMM\") or 0.0) for h in d[\"hourly\"])  # type: ignore[index]\n",
        "\t\t\texcept Exception:\n",
        "\t\t\t\tmm = 0.0\n",
        "\t\ttry:\n",
        "\t\t\ttotals.append(float(mm))\n",
        "\t\texcept Exception:\n",
        "\t\t\ttotals.append(0.0)\n",
        "\n",
        "\tfig, ax = plt.subplots()\n",
        "\tax.bar(labels, totals, color=\"#4e79a7\")\n",
        "\tax.set_title(\"Daily Total Precipitation\")\n",
        "\tax.set_xlabel(\"Day\")\n",
        "\tax.set_ylabel(\"Precipitation (mm)\")\n",
        "\tplt.tight_layout()\n",
        "\n",
        "\tif output_type == 'figure':\n",
        "\t\treturn fig\n",
        "\telse:\n",
        "\t\tplt.show()\n",
        "\t\treturn None"
      ],
      "metadata": {
        "id": "HpOlQylYG5Ho"
      },
      "id": "HpOlQylYG5Ho",
      "execution_count": 21,
      "outputs": []
    },
    {
      "cell_type": "markdown",
      "id": "9f95d160",
      "metadata": {
        "id": "9f95d160"
      },
      "source": [
        "## 🤖 Natural Language Processing"
      ]
    },
    {
      "cell_type": "code",
      "execution_count": 22,
      "id": "bcc5833e",
      "metadata": {
        "id": "bcc5833e"
      },
      "outputs": [],
      "source": [
        "from typing import Dict, Any\n",
        "\n",
        "def parse_weather_question(question: str) -> Dict[str, Any]:\n",
        "        \"\"\"\n",
        "        Parse a natural language weather question.\n",
        "\n",
        "        Args:\n",
        "                question (str): User's weather-related question\n",
        "\n",
        "        Returns:\n",
        "                dict: Extracted information including location, time period, and weather attribute\n",
        "        \"\"\"\n",
        "        if not question or not isinstance(question, str):\n",
        "                return {\"error\": \"Invalid question provided.\"}\n",
        "\n",
        "        # Basic implementation to return a dummy structure\n",
        "        return {\n",
        "                \"raw\": question,\n",
        "                \"location\": None,\n",
        "                \"temperature\": None,\n",
        "                \"uv_index\": None,\n",
        "                \"weather_condition\": None\n",
        "        }"
      ]
    },
    {
      "cell_type": "markdown",
      "id": "0d85225e",
      "metadata": {
        "id": "0d85225e"
      },
      "source": [
        "## 🧭 User Interface"
      ]
    },
    {
      "cell_type": "code",
      "execution_count": 23,
      "id": "fa6cb0f6",
      "metadata": {
        "id": "fa6cb0f6"
      },
      "outputs": [],
      "source": [
        "# Define menu functions using pyinputplus or ipywidgets here\n",
        "import json\n",
        "def get_temps(data):\n",
        "        daily_temps = {}\n",
        "\n",
        "        for item in data[\"list\"]:\n",
        "                dt_txt = item[\"dt_txt\"] # e.g., '2025-10-16 03:00:00'\n",
        "                date_str = dt_txt.split(\" \")[0] # Just the date part\n",
        "                temp = item[\"main\"][\"temp\"]\n",
        "\n",
        "                if date_str not in daily_temps:\n",
        "                        daily_temps[date_str] = []\n",
        "\n",
        "                daily_temps[date_str].append(temp)\n",
        "\n",
        "        return daily_temps\n",
        "\n",
        "def run_console_menu():\n",
        "        \"\"\"Simple console menu using pyinputplus if available, else fallback to input().\"\"\"\n",
        "        global _LAST_LOCATION, _LAST_FORECAST_DAYS, _LAST_WEATHER\n",
        "\n",
        "        def ask(prompt: str, choices: Optional[List[str]] = None) -> str:\n",
        "                if pyip and choices:\n",
        "                        return pyip.inputMenu(choices, prompt=prompt + \"\\n\", numbered=True)\n",
        "                elif pyip:\n",
        "                        return pyip.inputStr(prompt)\n",
        "                else:\n",
        "                        # basic fallback\n",
        "                        return input(prompt + (f\" ({'/'.join(choices)})\" if choices else \"\") + \": \")\n",
        "\n",
        "        while True:\n",
        "                choices = [\n",
        "                        \"Fetch today weather\",\n",
        "                        \"Show temperature chart\",\n",
        "                        # \"Show precipitation chart\",\n",
        "                        \"Show weather summary\",\n",
        "                        \"Ask any question\",\n",
        "                        \"Quit\",\n",
        "                ]\n",
        "                choice = ask(\"Choose an option\", choices)\n",
        "\n",
        "                if choice == choices[0]:\n",
        "                        loc = ask(\"Enter location (e.g., Perth)\")\n",
        "                        days = 1\n",
        "                        data = get_weather_data(loc, forecast_days=days)\n",
        "                        data = get_temps(data)\n",
        "                        from datetime import datetime\n",
        "                        today = datetime.now().strftime(\"%Y-%m-%d\")\n",
        "                        today_temp = data.get(today)\n",
        "                        average = sum(today_temp) / len(today_temp)\n",
        "                        print(f\"Average temperature of {loc} (celcius) is :\", average)\n",
        "\n",
        "                        _LAST_LOCATION, _LAST_FORECAST_DAYS, _LAST_WEATHER = loc, days, data\n",
        "\n",
        "                elif choice == choices[1]:\n",
        "                        if not _LAST_WEATHER:\n",
        "                                print(\"Please fetch weather first.\")\n",
        "                                continue\n",
        "                        # TODO : Edit function content\n",
        "                        create_temperature_visualisation(_LAST_WEATHER, output_type='display')\n",
        "\n",
        "                elif choice == choices[2]:\n",
        "                        if not _LAST_WEATHER:\n",
        "                                print(\"Please fetch weather first.\")\n",
        "                                continue\n",
        "                        # TODO: implement weather summary function\n",
        "                        create_weather_summary(_LAST_WEATHER)\n",
        "\n",
        "                elif choice == choices[3]:\n",
        "                        if not _LAST_WEATHER:\n",
        "                                print(\"Please fetch weather first.\")\n",
        "                                continue\n",
        "                        q = ask(\"Ask a weather question (e.g., 'Will it rain tomorrow in Sydney?')\")\n",
        "                        parsed = parse_weather_question(q)\n",
        "                        # TODO : Edit function content\n",
        "                        resp = generate_weather_response(parsed, _LAST_WEATHER)\n",
        "                        print(resp)\n",
        "\n",
        "                elif choice == choices[4]:\n",
        "                        print(\"Goodbye!\")\n",
        "                        break"
      ]
    },
    {
      "cell_type": "markdown",
      "id": "d643a53c",
      "metadata": {
        "id": "d643a53c"
      },
      "source": [
        "## 🧩 Main Application Logic"
      ]
    },
    {
      "cell_type": "code",
      "execution_count": 24,
      "id": "a9e2e805",
      "metadata": {
        "id": "a9e2e805"
      },
      "outputs": [],
      "source": [
        "# Tie everything together here\n",
        "\n",
        "def generate_weather_response(parsed_question: Dict[str, Any], weather_data: Dict[str, Any]) -> str:\n",
        "\t\"\"\"\n",
        "\tGenerate a natural language response to a weather question.\n",
        "\n",
        "\tArgs:\n",
        "\t\tparsed_question (dict): Parsed question data\n",
        "\t\tweather_data (dict): Weather data\n",
        "\n",
        "\tReturns:\n",
        "\t\tstr: Natural language response\n",
        "\t\"\"\"\n",
        "\tif parsed_question.get(\"error\"):\n",
        "\t\treturn parsed_question[\"error\"]\n",
        "\tif weather_data.get(\"error\"):\n",
        "\t\treturn weather_data[\"error\"]\n",
        "\n",
        "\tlocation = weather_data.get(\"location\") or parsed_question.get(\"location\") or \"the selected location\"\n",
        "\tcurrent = weather_data.get(\"current\", {})\n",
        "\tdaily = weather_data.get(\"daily\", [])\n",
        "\n",
        "\tattribute = parsed_question.get(\"attribute\")\n",
        "\ttime_spec = parsed_question.get(\"time\")\n",
        "\n",
        "\tdef format_day(d: Dict[str, Any]) -> str:\n",
        "\t\tdate = d.get(\"date\", \"\")\n",
        "\t\tdesc = (d.get(\"hourly\", [{}])[0].get(\"weatherDesc\") or [{\"value\": \"\"}])[0].get(\"value\", \"\")\n",
        "\t\treturn f\"{date} ({desc})\"\n",
        "\n",
        "\tif attribute == \"temperature\":\n",
        "\t\t# If today requested or unspecified, use current\n",
        "\t\tif time_spec in (None, 0):\n",
        "\t\t\tt = current.get(\"temp_C\")\n",
        "\t\t\tfeels = current.get(\"FeelsLikeC\") or current.get(\"FeelsLikeC\")\n",
        "\t\t\tdesc = (current.get(\"weatherDesc\") or [{\"value\": \"\"}])[0].get(\"value\", \"\")\n",
        "\t\t\tif t is not None:\n",
        "\t\t\t\treturn f\"Right now in {location}: {t}°C, {desc}. Feels like {feels}°C.\"\n",
        "\t\t# Otherwise use daily forecast\n",
        "\t\tif isinstance(time_spec, int) and 0 <= time_spec < len(daily):\n",
        "\t\t\td = daily[time_spec]\n",
        "\t\t\treturn (\n",
        "\t\t\t\tf\"In {location} on {d.get('date')}: min {d.get('mintempC')}°C, max {d.get('maxtempC')}°C.\"\n",
        "\t\t\t)\n",
        "\t\tif isinstance(time_spec, slice):\n",
        "\t\t\tparts = []\n",
        "\t\t\tfor d in daily[time_spec]:\n",
        "\t\t\t\tparts.append(f\"{d.get('date')}: {d.get('mintempC')}–{d.get('maxtempC')}°C\")\n",
        "\t\t\tif parts:\n",
        "\t\t\t\treturn f\"Temperature forecast for {location}: \" + \"; \".join(parts)\n",
        "\n",
        "\tif attribute == \"precipitation\":\n",
        "\t\tif isinstance(time_spec, int) and 0 <= time_spec < len(daily):\n",
        "\t\t\td = daily[time_spec]\n",
        "\t\t\tmm = d.get(\"totalPrecipMM\")\n",
        "\t\t\treturn f\"Expected precipitation in {location} on {d.get('date')}: {mm} mm.\"\n",
        "\t\tif time_spec in (None, 0):\n",
        "\t\t\t# Try current precipitation\n",
        "\t\t\tprecip_mm = current.get(\"precipMM\")\n",
        "\t\t\tif precip_mm is not None:\n",
        "\t\t\t\treturn f\"Right now in {location}, precipitation is {precip_mm} mm.\"\n",
        "\t\tif isinstance(time_spec, slice):\n",
        "\t\t\tparts = []\n",
        "\t\t\tfor d in daily[time_spec]:\n",
        "\t\t\t\tparts.append(f\"{d.get('date')}: {d.get('totalPrecipMM', 0)} mm\")\n",
        "\t\t\tif parts:\n",
        "\t\t\t\treturn f\"Precipitation forecast for {location}: \" + \"; \".join(parts)\n",
        "\n",
        "\tif attribute == \"wind\":\n",
        "\t\tif time_spec in (None, 0):\n",
        "\t\t\tspd = current.get(\"windspeedKmph\")\n",
        "\t\t\tdirp = current.get(\"winddir16Point\")\n",
        "\t\t\tif spd is not None:\n",
        "\t\t\t\treturn f\"Current wind in {location}: {spd} km/h {dirp or ''}.\"\n",
        "\n",
        "\t# Fallback generic summary\n",
        "\tif current:\n",
        "\t\tdesc = (current.get(\"weatherDesc\") or [{\"value\": \"\"}])[0].get(\"value\", \"\")\n",
        "\t\tt = current.get(\"temp_C\")\n",
        "\t\treturn f\"Currently in {location}: {t}°C, {desc}.\"\n",
        "\n",
        "\treturn \"I'm unable to summarise the weather from the provided data.\""
      ]
    },
    {
      "cell_type": "markdown",
      "id": "fde44479",
      "metadata": {
        "id": "fde44479"
      },
      "source": [
        "## 🧪 Testing and Examples"
      ]
    },
    {
      "cell_type": "code",
      "execution_count": null,
      "id": "4e573901",
      "metadata": {
        "id": "4e573901",
        "colab": {
          "base_uri": "https://localhost:8080/"
        },
        "outputId": "a39d01b3-2187-41b5-eca4-6f76614d70ed"
      },
      "outputs": [
        {
          "output_type": "stream",
          "name": "stdout",
          "text": [
            "Choose an option\n",
            "1. Fetch today weather\n",
            "2. Show temperature chart\n",
            "3. Show weather summary\n",
            "4. Ask any question\n",
            "5. Quit\n",
            "1\n",
            "Enter location (e.g., Perth)Perth\n",
            "Forecast days (1-5)3\n",
            "Average temperature of Perth (celcius) is : 16.8875\n",
            "Choose an option\n",
            "1. Fetch today weather\n",
            "2. Show temperature chart\n",
            "3. Show weather summary\n",
            "4. Ask any question\n",
            "5. Quit\n"
          ]
        }
      ],
      "source": [
        "run_console_menu()"
      ]
    },
    {
      "cell_type": "markdown",
      "id": "d2885880",
      "metadata": {
        "id": "d2885880"
      },
      "source": [
        "## 🗂️ AI Prompting Log (Optional)\n",
        "Add markdown cells here summarising prompts used or link to AI conversations in the `ai-conversations/` folder."
      ]
    }
  ],
  "metadata": {
    "language_info": {
      "name": "python"
    },
    "colab": {
      "provenance": [],
      "include_colab_link": true
    },
    "kernelspec": {
      "name": "python3",
      "display_name": "Python 3"
    }
  },
  "nbformat": 4,
  "nbformat_minor": 5
}